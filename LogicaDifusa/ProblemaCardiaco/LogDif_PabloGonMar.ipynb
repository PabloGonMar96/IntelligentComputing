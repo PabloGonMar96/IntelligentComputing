{
 "cells": [
  {
   "cell_type": "markdown",
   "metadata": {},
   "source": [
    "***********************************************************************************************************************\n",
    "#                               PABLO GONZÁLEZ MARTÍN - LÓGICA DIFUSA\n",
    "#                                              OCTUBRE 2018\n",
    "***********************************************************************************************************************\n",
    " \n",
    "Se va a crear un sistema de control difuso que modele la probabilidad de sufrir una enfermedad cardiáca. Se considerará\n",
    "el rendimiento físico y la edad de los individuos, valorados entre 0 y 100, y la calidad alimentaria a la que se someten\n" 
    "los sujetos, valorado entre 0 y 10. En función a los antecedentes mencionados se obtendrá la probabilidad de sufrir una;\n"
    "enfermedad cardiáca."
   ]
  },
  {
   "cell_type": "markdown",
   "metadata": {},
   "source": [
    "**********************************************************************************************************************\n",
    "                                           FORMULACIÓN DEL PROBLEMA\n",
    "**********************************************************************************************************************\n",
    "\n",
    " ANTECEDENTES (Entradas)\n",
    "     + Rendimiento físco: Universo: ¿Qué exigencia física tiene una persona, dentro de una escala de 0 a 100?\n",
    "     Conjunto difuso: bajo, medio, alto\n",
    " \n",
    "     + Edad: Universo: ¿Qué edad tiene la persona a la que se destinará el estudio?\n",
    "     Conjunto difuso:  niño, adolescente, joven, adulto, viejo\n",
    "\n",
    "     + Alimentación: Universo: ¿Qué calidad alimentaria lleva el individuo al que se destina el estudio?\n",
    "         Conjunto difuso: mala, media, buena\n",
    "\n",
    " CONSECUENTES (Salidas)\n",
    "     + Problemas cardiácos: Universo: ¿Qué probabilidad hay de que se sufra una enfermedad cardiáca, en una escala de 0% a 100%?\n",
    "         Fuzzy set: baja, media, alta"
   ]
  },
  {
   "cell_type": "markdown",
   "metadata": {},
   "source": [
    " \n",
    "******************************************************************************************************************************\n",
    "                                                       REGLAS\n",
    "******************************************************************************************************************************\n",
    "     1) Si el rendimiento físico es alto y la edad del individuo es adulto o viejo, entonces la probabilidad de padecer una enfermedad cardiaca es alta.\n",
    "     2) Si el rendimiento físico es bajo, entonces la probabilidad de padecer una enfermedad cardiaca es media.\n",
    "     3) Si el rendimiento físico es medio, entonces la probabilidad de padecer una enfermedad cardiaca es baja.\n",
    "     4) Si el rendimiento físico es alto y la edad del individuo no es viejo, entonces la probabilidad de padecer una enfermedad cardiaca es baja.\n",
    "     5) Si la edad del induviduo es viejo, entonces la probabilidad de padecer una enfermedad cardiaca es alta.\n",
    "     6) Si el rendimiento físico es medio y la edead del individuo es adulto o viejo, entonces la probabilidad de padecer una enfermedad cardiaca es baja.\n",
    "     7) Si la alimentacion es mala, entonces la probabilidad de padecer una enfermedad cardiaca es alta\n",
    "     8) Si la edad del individuo es adulto o viejo, y la alimentacion es mala la probabilidad de padecer una enfermedad cardiaca es alta.\n",
    "     10) Si el rendimiento físico es alto y la alimentacion es mala la probabilidad de padecer una enfermedad cardiaca es media.\n",
    "     11) Si el rendimiento físico es bajo, y la alimentacion es mala la probabilidad de padecer una enfermedad cardiaca es alta.\n",
    "     12) Si la alimentacion es buena, la probabilidad de padecer una enfermedad cardiaca es baja.\n",
    "     13) Si la alimentacion es media y el rendimiento fisico bajo, la probabilidad de padecer una enfermedad cardiaca es media.\n",
    "***********************************************************************************************************************\n"
   ]
  },
  {
   "cell_type": "code",
   "execution_count": null,
   "metadata": {},
   "outputs": [],
   "source": [
    "import numpy as np\n",
    "import skfuzzy as fuzz\n",
    "from skfuzzy import control as ctrl\n",
    "import matplotlib.pyplot as plt"
   ]
  },
  {
   "cell_type": "code",
   "execution_count": null,
   "metadata": {},
   "outputs": [],
   "source": [
    "# New Antecedent/Consequent objects hold universe variables and membership\n",
    "# functions\n",
    "performance = ctrl.Antecedent(np.arange(0, 101, 1), 'Rendimiento fisico')\n",
    "age = ctrl.Antecedent(np.arange(0, 101, 1), 'Edad')\n",
    "nutrition = ctrl.Antecedent(np.arange(0, 11, 1), 'Alimentacion')\n",
    "heart_problem = ctrl.Consequent(np.arange(0, 101, 1), 'Problema cardiaco')"
   ]
  },
  {
   "cell_type": "code",
   "execution_count": null,
   "metadata": {},
   "outputs": [],
   "source": [
    "# Custom membership functions can be built interactively with a familiar,\n",
    "# Pythonic API\n",
    "\n",
    "#   ANTECEDENTE 'RENDIMIENTO'\n",
    "performance['bajo'] = fuzz.trapmf(performance.universe, [0, 0, 20, 40])\n",
    "performance['medio'] = fuzz.trapmf(performance.universe, [20, 40, 65, 80])\n",
    "performance['alto'] = fuzz.trapmf(performance.universe, [60, 85, 100, 100])\n",
    "\n",
    "#   ANTECENDETE 'EDAD'\n",
    "age['ninio'] = fuzz.trapmf(age.universe, [0, 0, 10, 20])\n",
    "age['joven'] = fuzz.trapmf(age.universe, [15, 20, 30, 40])\n",
    "age['adulto'] = fuzz.trapmf(age.universe, [30, 40, 60, 70])\n",
    "age['viejo'] = fuzz.trapmf(age.universe, [60, 75, 100, 100])\n",
    "\n",
    "#   ANTECEDENTE 'ALIMENTACION'\n",
    "nutrition['mala'] = fuzz.trimf(nutrition.universe, [0, 0, 4])\n",
    "nutrition['media'] = fuzz.trimf(nutrition.universe, [2, 5, 8])\n",
    "nutrition['buena'] = fuzz.trimf(nutrition.universe, [6, 10, 10])\n",
    "\n",
    "#   CONSECUENTE 'PROBLEMA CARDIACO'\n",
    "heart_problem['bajo'] = fuzz.trapmf(heart_problem.universe, [0, 0, 20, 40])\n",
    "heart_problem['medio'] = fuzz.trapmf(heart_problem.universe, [20, 40, 60, 80])\n",
    "heart_problem['alto'] = fuzz.trapmf(heart_problem.universe, [60, 80, 100, 100])"
   ]
  },
  {
   "cell_type": "code",
   "execution_count": null,
   "metadata": {},
   "outputs": [],
   "source": [
    "performance.view()"
   ]
  },
  {
   "cell_type": "code",
   "execution_count": null,
   "metadata": {},
   "outputs": [],
   "source": [
    "age.view()"
   ]
  },
  {
   "cell_type": "code",
   "execution_count": null,
   "metadata": {},
   "outputs": [],
   "source": [
    "nutrition.view()"
   ]
  },
  {
   "cell_type": "code",
   "execution_count": null,
   "metadata": {},
   "outputs": [],
   "source": [
    "heart_problem.view()"
   ]
  },
  {
   "cell_type": "code",
   "execution_count": null,
   "metadata": {},
   "outputs": [],
   "source": [
    "# La mayoría de las personas estarían de acuerdo con estas reglas, aunque las reglas sean confusas. El reto es mapear\n",
    "# reglas difusas en un cálculo preciso de la probabilidad de padecer una enfermedad cardiaca.\n",
    "\n",
    "rule1 = ctrl.Rule(performance['alto'] & (age['adulto'] | age['viejo']), heart_problem['alto'])\n",
    "rule2 = ctrl.Rule(performance['bajo'], heart_problem['medio'])\n",
    "rule3 = ctrl.Rule(performance['medio'], heart_problem['bajo'])\n",
    "rule4 = ctrl.Rule(age['viejo'], heart_problem['alto'])\n",
    "rule5 = ctrl.Rule(performance['alto'] & (age['ninio'] | age['joven'] | age['adulto']), heart_problem['bajo'])\n",
    "rule6 = ctrl.Rule(performance['medio'] & (age['adulto'] | age['viejo']), heart_problem['bajo'])\n",
    "rule7 = ctrl.Rule(nutrition['mala'], heart_problem['alto'])\n",
    "rule8 = ctrl.Rule((age['adulto'] | age['viejo']) & nutrition['mala'], heart_problem['alto'])\n",
    "rule9 = ctrl.Rule(performance['alto'] & nutrition['mala'], heart_problem['medio'])\n",
    "rule10 = ctrl.Rule(performance['bajo'] & nutrition['mala'] & age['viejo'], heart_problem['alto'])\n",
    "rule11 = ctrl.Rule(performance['bajo'] & nutrition['media'] & (age['joven'] | age['adulto']), heart_problem['medio'])\n",
    "rule12 = ctrl.Rule(nutrition['buena'], heart_problem['bajo'])\n",
    "rule13 = ctrl.Rule(nutrition['media'] & performance['bajo'], heart_problem['medio'])"
   ]
  },
  {
   "cell_type": "code",
   "execution_count": null,
   "metadata": {},
   "outputs": [],
   "source": [
    "tipping_ctrl = ctrl.ControlSystem([rule1, rule2, rule3, rule4, rule5, rule6, rule7, rule8, rule9, rule10, rule11, \n",
    "                                   rule12, rule13])\n",
    "tipping = ctrl.ControlSystemSimulation(tipping_ctrl)"
   ]
  },
  {
   "cell_type": "code",
   "execution_count": null,
   "metadata": {},
   "outputs": [],
   "source": [
    "# Pass inputs to the ControlSystem using Antecedent labels with Pythonic API\n",
    "# Physical performance's values between 0-100\n",
    "tipping.input['Rendimiento fisico'] = 30\n",
    "# Age's values between 0-100\n",
    "tipping.input['Edad'] = 38\n",
    "# Nutrition's values between 0-10\n",
    "tipping.input['Alimentacion'] = 7"
   ]
  },
  {
   "cell_type": "code",
   "execution_count": null,
   "metadata": {},
   "outputs": [],
   "source": [
    "# Crunch the numbers\n",
    "tipping.compute()\n",
    "\n",
    "print(\"La probabilidad de padecer una enfermedad cardiaca es:\", tipping.output['Problema cardiaco'])\n",
    "heart_problem.view(sim=tipping)\n",
    "plt.show()"
   ]
  },
  {
   "cell_type": "markdown",
   "metadata": {},
   "source": [
    "*****************************************************************************************************************************\n",
    "                                     Variación de una variable manteniedo las demás fijas\n",
    "*****************************************************************************************************************************"
   ]
  },
  {
   "cell_type": "code",
   "execution_count": null,
   "metadata": {},
   "outputs": [],
   "source": [
    "b = []\n",
    "\n",
    "for d in range(0, 100):\n",
    "    tipping.input['Rendimiento fisico'] = d\n",
    "    tipping.compute()\n",
    "    b.append(int(tipping.output['Problema cardiaco']))\n",
    "\n",
    "plt.title('Fijado Edad y Alimentacion a: 30 años y 7 ptos.')\n",
    "plt.ylabel(\"Probabilidad de enfermedad cardiaca (%)\")\n",
    "plt.xlabel(\"Rendimiento fisico (%)\")\n",
    "plt.plot(b)\n",
    "plt.show()"
   ]
  }
 ],
 "metadata": {
  "kernelspec": {
   "display_name": "Python 3",
   "language": "python",
   "name": "python3"
  },
  "language_info": {
   "codemirror_mode": {
    "name": "ipython",
    "version": 3
   },
   "file_extension": ".py",
   "mimetype": "text/x-python",
   "name": "python",
   "nbconvert_exporter": "python",
   "pygments_lexer": "ipython3",
   "version": "3.6.6"
  }
 },
 "nbformat": 4,
 "nbformat_minor": 2
}
